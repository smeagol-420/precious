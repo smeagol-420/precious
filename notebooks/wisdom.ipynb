{
 "cells": [
  {
   "cell_type": "code",
   "execution_count": 1,
   "id": "2feaefb9-e303-47bc-935d-082434225f0b",
   "metadata": {},
   "outputs": [
    {
     "name": "stdout",
     "output_type": "stream",
     "text": [
      "Ah, we've been here before. The path lies clear before us.\n"
     ]
    }
   ],
   "source": [
    "let fs = require('fs');\n",
    "let filePath = '/home/jovyan/work/persistence_is_key';\n",
    "\n",
    "fs.access(filePath, fs.constants.F_OK, (err) => {\n",
    "  if (err) {\n",
    "    console.log(\"I have no memory of this place.\");\n",
    "    fs.writeFile(filePath, 'Persisted.\\n', (err) => {\n",
    "      if (err) {\n",
    "        console.error(\"Even the wise cannot foresee all errors:\", err);\n",
    "      } else {\n",
    "        console.log(\"Marking our passage, so we remember.\");\n",
    "      }\n",
    "    });\n",
    "  } else {\n",
    "    console.log(\"Ah, we've been here before. The path lies clear before us.\");\n",
    "  }\n",
    "});"
   ]
  },
  {
   "cell_type": "code",
   "execution_count": 2,
   "id": "5873c029-6624-461f-9f28-25b02cdd3641",
   "metadata": {},
   "outputs": [
    {
     "name": "stdout",
     "output_type": "stream",
     "text": [
      "Words of wisdom:\n",
      "banana\n"
     ]
    }
   ],
   "source": [
    "console.log('Words of wisdom:');\n",
    "console.log(('b' + 'a' + + 'a' + 'a').toLowerCase());"
   ]
  }
 ],
 "metadata": {
  "kernelspec": {
   "display_name": "JavaScript (Node.js)",
   "language": "javascript",
   "name": "javascript"
  },
  "language_info": {
   "file_extension": ".js",
   "mimetype": "application/javascript",
   "name": "javascript",
   "version": "20.8.1"
  }
 },
 "nbformat": 4,
 "nbformat_minor": 5
}
